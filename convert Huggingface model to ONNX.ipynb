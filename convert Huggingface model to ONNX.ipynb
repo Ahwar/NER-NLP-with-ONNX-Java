{
  "cells": [
    {
      "cell_type": "markdown",
      "metadata": {
        "id": "xJckl99IHePQ"
      },
      "source": [
        "## Hugging Face Model to ONNX\n"
      ]
    },
    {
      "cell_type": "code",
      "execution_count": null,
      "metadata": {
        "id": "IWvxTyMSHnFo"
      },
      "outputs": [],
      "source": [
        "%pip install -q transformers[onnx] transformers[sentencepiece] torch"
      ]
    },
    {
      "cell_type": "code",
      "execution_count": 2,
      "metadata": {
        "colab": {
          "base_uri": "https://localhost:8080/"
        },
        "id": "aWB2G_kLHou2",
        "outputId": "b66c9ef4-8536-40de-cf47-fe2aeb9410c7"
      },
      "outputs": [
        {
          "name": "stdout",
          "output_type": "stream",
          "text": [
            "Validating ONNX model...\n",
            "\t-[✓] ONNX model output names match reference model ({'logits'})\n",
            "\t- Validating ONNX Model output \"logits\":\n",
            "\t\t-[✓] (3, 9, 8) matches (3, 9, 8)\n",
            "\t\t-[✓] all values close (atol: 0.005)\n",
            "All good, model saved at: onnx/model.onnx\n"
          ]
        }
      ],
      "source": [
        "!python -m transformers.onnx --opset 16 --atol 0.005 \\\n",
        "    --feature=token-classification \\\n",
        "    --model=xlm-roberta-large-finetuned-conll03-english onnx/"
      ]
    }
  ],
  "metadata": {
    "colab": {
      "provenance": []
    },
    "kernelspec": {
      "display_name": "Python 3.8.0 64-bit",
      "language": "python",
      "name": "python3"
    },
    "language_info": {
      "name": "python",
      "version": "3.8.0"
    },
    "vscode": {
      "interpreter": {
        "hash": "437c6a4c2ab8ad564298253974ee7794b68bcbeea462aed8eaaa05b6d7c57f73"
      }
    }
  },
  "nbformat": 4,
  "nbformat_minor": 0
}
